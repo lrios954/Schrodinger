{
 "metadata": {
  "name": "Simulaci\u00f3n Psi"
 },
 "nbformat": 3,
 "nbformat_minor": 0,
 "worksheets": [
  {
   "cells": [
    {
     "cell_type": "code",
     "collapsed": false,
     "input": [
      "import matplotlib.pyplot as pyp\n",
      "import pylab as pyl\n",
      "import math\n",
      "b = 134.95\n",
      "v = 0.0\n",
      "e = 5.0\n",
      "umax = 3.0\n",
      "edge = 1.0"
     ],
     "language": "python",
     "metadata": {},
     "outputs": [],
     "prompt_number": 75
    },
    {
     "cell_type": "code",
     "collapsed": false,
     "input": [
      "def darF (d,ps):\n",
      "    x = d\n",
      "    Val = 0.0\n",
      "    if (x<edge):\n",
      "        Val = -b*e*ps\n",
      "    if (x>edge):\n",
      "        Val = -b*(e-v)*ps\n",
      "    if (x==edge):\n",
      "        Val = -b(e-0.5*v)*ps\n",
      "    \n",
      "    return Val"
     ],
     "language": "python",
     "metadata": {},
     "outputs": [],
     "prompt_number": 76
    },
    {
     "cell_type": "code",
     "collapsed": false,
     "input": [
      "#funci\u00f3n sim\u00e9trica\n",
      "psio = 1.0\n",
      "dpo = 0.0\n",
      "uo = 0.0\n",
      "du = 0.01\n",
      "\n",
      "u = uo\n",
      "psi = psio\n",
      "dp = dpo\n",
      "F = darF(u,psi)\n",
      "dp = dp + 0.5*F*du\n",
      "psi = psi + dp*du\n",
      "\n",
      "listu = []\n",
      "listpsi = []\n",
      "\n"
     ],
     "language": "python",
     "metadata": {},
     "outputs": [],
     "prompt_number": 77
    },
    {
     "cell_type": "code",
     "collapsed": false,
     "input": [
      "#Euler Feynman\n",
      "while u < umax:\n",
      "    u = u + du\n",
      "    dp = dp + F*du\n",
      "    psi = psi + dp*du\n",
      "    F=darF(u, psi)\n",
      "    \n",
      "    listu.append(u)\n",
      "    listpsi.append(psi)"
     ],
     "language": "python",
     "metadata": {},
     "outputs": [],
     "prompt_number": 78
    },
    {
     "cell_type": "code",
     "collapsed": false,
     "input": [
      "pyp.scatter(listu,listpsi)\n",
      "pyp.ylabel(\"psi\")\n",
      "pyp.xlabel(\"x\")\n",
      "pyp.title(\"E = \"+str (e))\n",
      "pyp.show()"
     ],
     "language": "python",
     "metadata": {},
     "outputs": [],
     "prompt_number": 82
    },
    {
     "cell_type": "code",
     "collapsed": false,
     "input": [],
     "language": "python",
     "metadata": {},
     "outputs": [],
     "prompt_number": 24
    },
    {
     "cell_type": "code",
     "collapsed": false,
     "input": [],
     "language": "python",
     "metadata": {},
     "outputs": []
    }
   ],
   "metadata": {}
  }
 ]
}