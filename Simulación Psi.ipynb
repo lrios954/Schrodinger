{
 "metadata": {
  "name": "Simulaci\u00f3n Psi"
 },
 "nbformat": 3,
 "nbformat_minor": 0,
 "worksheets": [
  {
   "cells": [
    {
     "cell_type": "code",
     "collapsed": false,
     "input": [
      "import matplotlib.pyplot as pyp\n",
      "import pylab as pyl\n",
      "import math\n",
      "\n",
      "b = 134.95\n",
      "e = 9\n",
      "umax = 3.0\n"
     ],
     "language": "python",
     "metadata": {},
     "outputs": [],
     "prompt_number": 67
    },
    {
     "cell_type": "code",
     "collapsed": false,
     "input": [
      "def Poten (d):\n",
      "    x=d\n",
      "   # Va=0.0\n",
      "  #  if (x<edge):\n",
      "    Va=d*d\n",
      "  # if (x>edge):\n",
      "  #      Va=d*d\n",
      "    return Va"
     ],
     "language": "python",
     "metadata": {},
     "outputs": [],
     "prompt_number": 68
    },
    {
     "cell_type": "code",
     "collapsed": false,
     "input": [
      "def darF (d,ps):\n",
      "    x = d\n",
      "    Pot=Poten(d)\n",
      "    Val = 0.0\n",
      "    #if (x<edge):\n",
      "        #Val = -b*e*ps\n",
      "    #if (x>edge):\n",
      "    Val = -b*(e-Pot)*ps\n",
      "    #if (x==edge):\n",
      "     #   Val = -b(e-0.5*Poten(d))*ps\n",
      "    \n",
      "    return Val"
     ],
     "language": "python",
     "metadata": {},
     "outputs": [],
     "prompt_number": 69
    },
    {
     "cell_type": "code",
     "collapsed": false,
     "input": [
      "#funci\u00f3n sim\u00e9trica\n",
      "psio = 0.0\n",
      "dpo = 1.0\n",
      "uo = 0.0\n",
      "du = 0.01\n",
      "\n",
      "u = uo\n",
      "psi = psio\n",
      "dp = dpo\n",
      "F = darF(u,psi)\n",
      "dp = dp + 0.5*F*du\n",
      "psi = psi + dp*du\n",
      "\n",
      "listu = []\n",
      "listpsi = []\n",
      "\n"
     ],
     "language": "python",
     "metadata": {},
     "outputs": [],
     "prompt_number": 70
    },
    {
     "cell_type": "code",
     "collapsed": false,
     "input": [
      "#Euler Feynman\n",
      "while u < umax:\n",
      "    u = u + du\n",
      "    dp = dp + F*du\n",
      "    psi = psi + dp*du\n",
      "    F=darF(u, psi)\n",
      "    \n",
      "    listu.append(u)\n",
      "    listpsi.append(psi)"
     ],
     "language": "python",
     "metadata": {},
     "outputs": [],
     "prompt_number": 71
    },
    {
     "cell_type": "code",
     "collapsed": false,
     "input": [
      "pyp.plot(listu,listpsi)\n",
      "pyp.ylabel(\"psi\")\n",
      "pyp.xlabel(\"x\")\n",
      "pyp.title(\"E = \"+str (e))\n",
      "pyp.show()"
     ],
     "language": "python",
     "metadata": {},
     "outputs": [],
     "prompt_number": 72
    },
    {
     "cell_type": "code",
     "collapsed": false,
     "input": [],
     "language": "python",
     "metadata": {},
     "outputs": [],
     "prompt_number": 3
    },
    {
     "cell_type": "code",
     "collapsed": false,
     "input": [],
     "language": "python",
     "metadata": {},
     "outputs": [],
     "prompt_number": 3
    },
    {
     "cell_type": "code",
     "collapsed": false,
     "input": [],
     "language": "python",
     "metadata": {},
     "outputs": []
    }
   ],
   "metadata": {}
  }
 ]
}