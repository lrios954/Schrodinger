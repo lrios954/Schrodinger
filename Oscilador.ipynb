{
 "metadata": {
  "name": "Simulaci\u00f3n Psi"
 },
 "nbformat": 3,
 "nbformat_minor": 0,
 "worksheets": [
  {
   "cells": [
    {
     "cell_type": "code",
     "collapsed": false,
     "input": "import matplotlib.pyplot as pyp\nimport pylab as pyl\nimport math\nb = 134.95\nv = 0.0\ne = 5.0\numax = 3.0\nedge = 1.0",
     "language": "python",
     "metadata": {},
     "outputs": [],
     "prompt_number": 75
    },
    {
     "cell_type": "code",
     "collapsed": false,
     "input": "def darF (d,ps):\n    x = d\n    Val = 0.0\n    if (x<edge):\n        Val = -b*e*ps\n    if (x>edge):\n        Val = -b*(e-v)*ps\n    if (x==edge):\n        Val = -b(e-0.5*v)*ps\n    \n    return Val",
     "language": "python",
     "metadata": {},
     "outputs": [],
     "prompt_number": 76
    },
    {
     "cell_type": "code",
     "collapsed": false,
     "input": "#funci\u00f3n sim\u00e9trica\npsio = 1.0\ndpo = 0.0\nuo = 0.0\ndu = 0.01\n\nu = uo\npsi = psio\ndp = dpo\nF = darF(u,psi)\ndp = dp + 0.5*F*du\npsi = psi + dp*du\n\nlistu = []\nlistpsi = []\n\n",
     "language": "python",
     "metadata": {},
     "outputs": [],
     "prompt_number": 77
    },
    {
     "cell_type": "code",
     "collapsed": false,
     "input": "#Euler Feynman\nwhile u < umax:\n    u = u + du\n    dp = dp + F*du\n    psi = psi + dp*du\n    F=darF(u, psi)\n    \n    listu.append(u)\n    listpsi.append(psi)",
     "language": "python",
     "metadata": {},
     "outputs": [],
     "prompt_number": 78
    },
    {
     "cell_type": "code",
     "collapsed": false,
     "input": "pyp.scatter(listu,listpsi)\npyp.ylabel(\"psi\")\npyp.xlabel(\"x\")\npyp.title(\"E = \"+str (e))\npyp.show()",
     "language": "python",
     "metadata": {},
     "outputs": [],
     "prompt_number": 82
    },
    {
     "cell_type": "code",
     "collapsed": false,
     "input": "",
     "language": "python",
     "metadata": {},
     "outputs": [],
     "prompt_number": 24
    },
    {
     "cell_type": "code",
     "collapsed": false,
     "input": "",
     "language": "python",
     "metadata": {},
     "outputs": []
    }
   ],
   "metadata": {}
  }
 ]
}