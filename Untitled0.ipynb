{
 "metadata": {
  "name": "Untitled0"
 }, 
 "name": "Untitled0", 
 "nbformat": 2, 
 "worksheets": [
  {
   "cells": [
    {
     "cell_type": "code", 
     "collapsed": false, 
     "input": "%pylab", 
     "language": "python", 
     "outputs": [
      {
       "output_type": "stream", 
       "stream": "stdout", 
       "text": "\nWelcome to pylab, a matplotlib-based Python environment [backend: TkAgg].\nFor more information, type 'help(pylab)'."
      }
     ], 
     "prompt_number": 1
    }, 
    {
     "cell_type": "code", 
     "collapsed": true, 
     "input": "h=0.05\nn_points = int((6.0+h)/h)\nx = empty(n_points)\ny_1 = empty(n_points)\ny_2 = empty(n_points)", 
     "language": "python", 
     "outputs": [], 
     "prompt_number": 23
    }, 
    {
     "cell_type": "code", 
     "collapsed": true, 
     "input": "x[0] = 1 # by definition\ny_1[0] = 1.0\ny_2[0] = 0.0", 
     "language": "python", 
     "outputs": [], 
     "prompt_number": 44
    }, 
    {
     "cell_type": "code", 
     "collapsed": false, 
     "input": "e=1.602E-19\nl=1\ndef func_prime_1(x,y_1):\n    return y_1\n\ndef func_prime_2(x, y_1, y_2):\n    return (-2*e-2/x + l*(l+1)/x**2)*y_1\n\nfor i in range(1,n_points):\n    #get the first derivatives\n    y_prime_1 = func_prime_1(x[i-1],y_2[i-1])\n    y_prime_2 = func_prime_2(x[i-1],y_1[i-1], y_2[i-1])\n    \n    #from this estimation move to the middle point\n    x_middle = x[i-1] + (h/2.0)\n    y_1_middle = y_1[i-1] + (h/2.0) * y_prime_1\n    y_2_middle = y_2[i-1] + (h/2.0) * y_prime_2 \n    \n    #compute the derivatives at the middle point\n    y_middle_prime_1 = func_prime_1(x_middle, y_2_middle)\n    y_middle_prime_2 = func_prime_2(x_middle, y_1_middle, y_2_middle)\n    \n    x[i] = x[i-1] + h\n    y_1[i] = y_1[i-1] + h * y_middle_prime_1 \n    y_2[i] = y_2[i-1] + h * y_middle_prime_2", 
     "language": "python", 
     "outputs": [], 
     "prompt_number": 55
    }, 
    {
     "cell_type": "code", 
     "collapsed": false, 
     "input": "plot(x,y_1, 'ko')\nplt.xlabel('x')\nplt.ylabel('y(x)')", 
     "language": "python", 
     "outputs": [
      {
       "output_type": "pyout", 
       "prompt_number": 56, 
       "text": "<matplotlib.text.Text at 0x8161890>"
      }
     ], 
     "prompt_number": 56
    }, 
    {
     "cell_type": "code", 
     "collapsed": true, 
     "input": "", 
     "language": "python", 
     "outputs": []
    }
   ]
  }
 ]
}